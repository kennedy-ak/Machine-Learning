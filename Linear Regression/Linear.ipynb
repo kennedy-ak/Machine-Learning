{
 "cells": [
  {
   "cell_type": "markdown",
   "id": "f32f1653-911f-46a7-ad1d-48acea7c6f63",
   "metadata": {},
   "source": [
    "Uni Variant Linear Regression"
   ]
  },
  {
   "cell_type": "code",
   "execution_count": 26,
   "id": "7a6a8532-ee1a-4b22-8acc-fe7dc3f5277b",
   "metadata": {},
   "outputs": [
    {
     "data": {
      "text/plain": [
       "'\\nThis is a simple linear regression with one input feature\\n\\nRegression is used when you want to predict a continues real value\\n'"
      ]
     },
     "execution_count": 26,
     "metadata": {},
     "output_type": "execute_result"
    }
   ],
   "source": [
    "\"\"\"\n",
    "This is a simple linear regression with one input feature\n",
    "\n",
    "\n",
    "\"\"\""
   ]
  },
  {
   "cell_type": "markdown",
   "id": "3e7054b2-3926-4a7e-a580-c830a238fea0",
   "metadata": {},
   "source": [
    "# 1.1 IMPORTING LIBARIES"
   ]
  },
  {
   "cell_type": "markdown",
   "id": "a5fd0ec9-8036-414c-9b73-99cdddbf928d",
   "metadata": {},
   "source": [
    "1.1.1 Data preprocessing\n"
   ]
  },
  {
   "cell_type": "code",
   "execution_count": 37,
   "id": "0e5cd5af-327e-49d5-9710-d66a3257a26d",
   "metadata": {},
   "outputs": [],
   "source": [
    "\"\"\"\n",
    "\n",
    "\n",
    "\n",
    "\"\"\"\n",
    "import numpy as np\n",
    "import pandas as pd\n",
    "import matplotlib.pyplot as plt"
   ]
  },
  {
   "cell_type": "code",
   "execution_count": 38,
   "id": "27376df6-0a9e-4f2f-abfe-d8602a386062",
   "metadata": {},
   "outputs": [],
   "source": [
    "#spliting the data into the input feature and the depent variable using the iloc function\n",
    "dataset = pd.read_csv('Salary_Data.csv')\n",
    "\n",
    "x_feature = dataset.iloc[:,:-1].values\n",
    "\n",
    "\n",
    "y_dependent =dataset.iloc[:,1:].values"
   ]
  },
  {
   "cell_type": "code",
   "execution_count": 39,
   "id": "028369e1",
   "metadata": {},
   "outputs": [],
   "source": [
    "#x_feature=np.array([1.0, 2.0,3.0,4.0,5.0,6.0])\n",
    "#y_dependent= np.array([300,500,700,900,1200,1500])"
   ]
  },
  {
   "cell_type": "code",
   "execution_count": 40,
   "id": "36f3b1fd-0cac-4018-83dd-cb1868e88248",
   "metadata": {},
   "outputs": [
    {
     "data": {
      "text/plain": [
       "array([[ 1.1],\n",
       "       [ 1.3],\n",
       "       [ 1.5],\n",
       "       [ 2. ],\n",
       "       [ 2.2],\n",
       "       [ 2.9],\n",
       "       [ 3. ],\n",
       "       [ 3.2],\n",
       "       [ 3.2],\n",
       "       [ 3.7],\n",
       "       [ 3.9],\n",
       "       [ 4. ],\n",
       "       [ 4. ],\n",
       "       [ 4.1],\n",
       "       [ 4.5],\n",
       "       [ 4.9],\n",
       "       [ 5.1],\n",
       "       [ 5.3],\n",
       "       [ 5.9],\n",
       "       [ 6. ],\n",
       "       [ 6.8],\n",
       "       [ 7.1],\n",
       "       [ 7.9],\n",
       "       [ 8.2],\n",
       "       [ 8.7],\n",
       "       [ 9. ],\n",
       "       [ 9.5],\n",
       "       [ 9.6],\n",
       "       [10.3],\n",
       "       [10.5]])"
      ]
     },
     "execution_count": 40,
     "metadata": {},
     "output_type": "execute_result"
    }
   ],
   "source": [
    "x_feature #first 5"
   ]
  },
  {
   "cell_type": "code",
   "execution_count": 41,
   "id": "87d1c130-11bc-4519-9717-9cd69e29f33b",
   "metadata": {},
   "outputs": [
    {
     "data": {
      "text/plain": [
       "<matplotlib.collections.PathCollection at 0x181d1f57eb0>"
      ]
     },
     "execution_count": 41,
     "metadata": {},
     "output_type": "execute_result"
    },
    {
     "data": {
      "image/png": "[encoded data removed]",
      "text/plain": [
       "<Figure size 432x288 with 1 Axes>"
      ]
     },
     "metadata": {
      "needs_background": "light"
     },
     "output_type": "display_data"
    }
   ],
   "source": [
    "plt.scatter(x_feature,y_dependent,color='red')"
   ]
  },
  {
   "cell_type": "code",
   "execution_count": 42,
   "id": "02e3ef99-c535-4a10-9456-cf858adf209c",
   "metadata": {},
   "outputs": [
    {
     "data": {
      "text/plain": [
       "array([[ 39343.],\n",
       "       [ 46205.],\n",
       "       [ 37731.],\n",
       "       [ 43525.],\n",
       "       [ 39891.],\n",
       "       [ 56642.],\n",
       "       [ 60150.],\n",
       "       [ 54445.],\n",
       "       [ 64445.],\n",
       "       [ 57189.],\n",
       "       [ 63218.],\n",
       "       [ 55794.],\n",
       "       [ 56957.],\n",
       "       [ 57081.],\n",
       "       [ 61111.],\n",
       "       [ 67938.],\n",
       "       [ 66029.],\n",
       "       [ 83088.],\n",
       "       [ 81363.],\n",
       "       [ 93940.],\n",
       "       [ 91738.],\n",
       "       [ 98273.],\n",
       "       [101302.],\n",
       "       [113812.],\n",
       "       [109431.],\n",
       "       [105582.],\n",
       "       [116969.],\n",
       "       [112635.],\n",
       "       [122391.],\n",
       "       [121872.]])"
      ]
     },
     "execution_count": 42,
     "metadata": {},
     "output_type": "execute_result"
    }
   ],
   "source": [
    "y_dependent # first 5"
   ]
  },
  {
   "cell_type": "markdown",
   "id": "cbbf7dfe-7001-444a-a985-46a2f0b6f106",
   "metadata": {},
   "source": [
    "# 1.2 Splitting the Dataset into Training set and Test set"
   ]
  },
  {
   "cell_type": "code",
   "execution_count": 43,
   "id": "088bfb85-420a-4c14-b666-508e98966869",
   "metadata": {},
   "outputs": [],
   "source": [
    "from sklearn.model_selection import train_test_split\n",
    "x_feature_train,x_feature_test,y_dependent_train,y_dependent_test=train_test_split(x_feature,y_dependent,test_size=0.2,random_state=1,shuffle=True)"
   ]
  },
  {
   "cell_type": "code",
   "execution_count": 44,
   "id": "9f05f6bd-365e-4026-9134-40a91846f1db",
   "metadata": {},
   "outputs": [
    {
     "data": {
      "text/plain": [
       "array([[ 9.5],\n",
       "       [ 2. ],\n",
       "       [ 8.7],\n",
       "       [ 7.9],\n",
       "       [ 8.2],\n",
       "       [ 2.2],\n",
       "       [ 1.5],\n",
       "       [ 9. ],\n",
       "       [ 3. ],\n",
       "       [ 5.9],\n",
       "       [ 4.1],\n",
       "       [ 3.2],\n",
       "       [ 9.6],\n",
       "       [ 1.3],\n",
       "       [ 5.1],\n",
       "       [ 1.1],\n",
       "       [ 4.9],\n",
       "       [10.5],\n",
       "       [10.3],\n",
       "       [ 3.7],\n",
       "       [ 3.2],\n",
       "       [ 4. ],\n",
       "       [ 4. ],\n",
       "       [ 2.9]])"
      ]
     },
     "execution_count": 44,
     "metadata": {},
     "output_type": "execute_result"
    }
   ],
   "source": [
    "x_feature_train"
   ]
  },
  {
   "cell_type": "code",
   "execution_count": 45,
   "id": "d04b7716-6848-427e-a821-efffa8471ab6",
   "metadata": {},
   "outputs": [
    {
     "data": {
      "text/plain": [
       "array([[5.3],\n",
       "       [7.1],\n",
       "       [3.9],\n",
       "       [6. ],\n",
       "       [4.5],\n",
       "       [6.8]])"
      ]
     },
     "execution_count": 45,
     "metadata": {},
     "output_type": "execute_result"
    }
   ],
   "source": [
    "x_feature_test"
   ]
  },
  {
   "cell_type": "code",
   "execution_count": 46,
   "id": "ab92cc7b-d657-44b9-93e4-8157f503eaa4",
   "metadata": {},
   "outputs": [
    {
     "data": {
      "text/plain": [
       "array([[116969.],\n",
       "       [ 43525.],\n",
       "       [109431.],\n",
       "       [101302.],\n",
       "       [113812.],\n",
       "       [ 39891.],\n",
       "       [ 37731.],\n",
       "       [105582.],\n",
       "       [ 60150.],\n",
       "       [ 81363.],\n",
       "       [ 57081.],\n",
       "       [ 54445.],\n",
       "       [112635.],\n",
       "       [ 46205.],\n",
       "       [ 66029.],\n",
       "       [ 39343.],\n",
       "       [ 67938.],\n",
       "       [121872.],\n",
       "       [122391.],\n",
       "       [ 57189.],\n",
       "       [ 64445.],\n",
       "       [ 56957.],\n",
       "       [ 55794.],\n",
       "       [ 56642.]])"
      ]
     },
     "execution_count": 46,
     "metadata": {},
     "output_type": "execute_result"
    }
   ],
   "source": [
    "y_dependent_train"
   ]
  },
  {
   "cell_type": "code",
   "execution_count": 47,
   "id": "c5f0b6b5-c989-46ff-adf1-df3898c4e720",
   "metadata": {},
   "outputs": [
    {
     "data": {
      "text/plain": [
       "array([[83088.],\n",
       "       [98273.],\n",
       "       [63218.],\n",
       "       [93940.],\n",
       "       [61111.],\n",
       "       [91738.]])"
      ]
     },
     "execution_count": 47,
     "metadata": {},
     "output_type": "execute_result"
    }
   ],
   "source": [
    "y_dependent_test"
   ]
  },
  {
   "cell_type": "markdown",
   "id": "d6061ef3-c713-48e1-a884-0b57620aa35c",
   "metadata": {},
   "source": [
    "# 1.3 Training the Simple Linear regression model on the Training set"
   ]
  },
  {
   "cell_type": "code",
   "execution_count": 48,
   "id": "309e8a2b-44f1-45ad-9b47-a27e1b4dfc70",
   "metadata": {},
   "outputs": [
    {
     "data": {
      "text/plain": [
       "LinearRegression()"
      ]
     },
     "execution_count": 48,
     "metadata": {},
     "output_type": "execute_result"
    }
   ],
   "source": [
    "from sklearn.linear_model import LinearRegression\n",
    "model =LinearRegression()\n",
    "model.fit(x_feature_train,y_dependent_train)"
   ]
  },
  {
   "cell_type": "code",
   "execution_count": 49,
   "id": "0cb29f0c-c7b5-49c6-8792-8cf4e817a19d",
   "metadata": {},
   "outputs": [
    {
     "data": {
      "text/plain": [
       "LinearRegression()"
      ]
     },
     "execution_count": 49,
     "metadata": {},
     "output_type": "execute_result"
    }
   ],
   "source": [
    "model"
   ]
  },
  {
   "cell_type": "markdown",
   "id": "ce74f2d8-bc22-41f4-ba3d-dc28ca48fa44",
   "metadata": {},
   "source": [
    "# 1.4 Predicting the Test set result"
   ]
  },
  {
   "cell_type": "code",
   "execution_count": 50,
   "id": "c1221dc0-9bb3-4da1-af5c-76c79b5b5b93",
   "metadata": {},
   "outputs": [],
   "source": [
    "y_dependent_pred= model.predict(x_feature_test)"
   ]
  },
  {
   "cell_type": "code",
   "execution_count": 51,
   "id": "834220f3-ed0f-406d-a15c-a1df1c9ce097",
   "metadata": {},
   "outputs": [
    {
     "data": {
      "text/plain": [
       "array([[75074.50510972],\n",
       "       [91873.8056381 ],\n",
       "       [62008.38247653],\n",
       "       [81607.56642631],\n",
       "       [67608.14931932],\n",
       "       [89073.92221671]])"
      ]
     },
     "execution_count": 51,
     "metadata": {},
     "output_type": "execute_result"
    }
   ],
   "source": [
    "y_dependent_pred"
   ]
  },
  {
   "cell_type": "code",
   "execution_count": 52,
   "id": "d631dbf2-6927-474e-81b1-4ecec7462732",
   "metadata": {},
   "outputs": [],
   "source": [
    "x_pred=model.predict(x_feature_train)"
   ]
  },
  {
   "cell_type": "markdown",
   "id": "5801d87e",
   "metadata": {},
   "source": [
    "# 1.5 VISUALIZING THE TRAINING SET RESULTS"
   ]
  },
  {
   "cell_type": "code",
   "execution_count": 90,
   "id": "aea450d1-b038-44ab-be71-55b39c7e09ca",
   "metadata": {},
   "outputs": [
    {
     "data": {
      "image/png": "[encoded data removed]",
      "text/plain": [
       "<Figure size 432x288 with 1 Axes>"
      ]
     },
     "metadata": {
      "needs_background": "light"
     },
     "output_type": "display_data"
    }
   ],
   "source": [
    "\n",
    "\"\"\"\n",
    "using the scatter to put the real salaries into 2d  plot\n",
    "takes in the x train, y train\n",
    "\n",
    "\"\"\"\n",
    "plt.scatter(x_feature_train,y_dependent_train,color='red')\n",
    "plt.plot(x_feature_train,x_pred,color='blue')\n",
    "plt.title(' Salary Vs Experience  (Traing set)')\n",
    "plt.xlabel('Years of Experience')\n",
    "plt.ylabel('Salary')\n",
    "plt.show()"
   ]
  },
  {
   "cell_type": "markdown",
   "id": "57531eee-99d8-4800-b4b1-5f65b5ac4034",
   "metadata": {},
   "source": [
    "# 1.6 Visualizing the TEST SET RESULTS"
   ]
  },
  {
   "cell_type": "code",
   "execution_count": 91,
   "id": "e2190919-1232-4722-aa42-23ef009e5644",
   "metadata": {},
   "outputs": [],
   "source": [
    "y_pred = model.predict(y_dependent_test)"
   ]
  },
  {
   "cell_type": "code",
   "execution_count": 92,
   "id": "09ffefcc-ac9c-45b1-94f7-35e96dfa22a8",
   "metadata": {},
   "outputs": [
    {
     "data": {
      "image/png": "[encoded data removed]",
      "text/plain": [
       "<Figure size 432x288 with 1 Axes>"
      ]
     },
     "metadata": {
      "needs_background": "light"
     },
     "output_type": "display_data"
    }
   ],
   "source": [
    "\n",
    "plt.scatter(x_feature_test,y_dependent_test,color='red')\n",
    "plt.plot(x_feature_train,model.predict(x_feature_train),color='blue')\n",
    "plt.title(' Salary Vs Experience  (TEST SET)')\n",
    "plt.xlabel('Years of Experience')\n",
    "plt.ylabel('Salary')\n",
    "plt.show()"
   ]
  },
  {
   "cell_type": "markdown",
   "id": "3170d830-d886-467f-92cc-9ec9dbdad935",
   "metadata": {},
   "source": [
    "# 1.8 ACCURACY"
   ]
  },
  {
   "cell_type": "code",
   "execution_count": 93,
   "id": "8514228a-7242-4274-9bdf-6d9abae88513",
   "metadata": {},
   "outputs": [],
   "source": [
    "def linearRegression(X_train, X_test, Y_train, Y_test):  \n",
    "    from sklearn.linear_model import LinearRegression \n",
    "    regressor = LinearRegression() \n",
    "    regressor.fit(X_train,Y_train)         \n",
    "    score = regressor.score(X_test, Y_test) \n",
    "    return score "
   ]
  },
  {
   "cell_type": "code",
   "execution_count": 94,
   "id": "6ff97489-da53-4fd1-a9dd-b1b20e432a42",
   "metadata": {},
   "outputs": [
    {
     "data": {
      "text/plain": [
       "0.7616681465472094"
      ]
     },
     "execution_count": 94,
     "metadata": {},
     "output_type": "execute_result"
    }
   ],
   "source": [
    "linearRegression(x_feature_train,x_feature_test,y_dependent_train,y_dependent_test)"
   ]
  },
  {
   "cell_type": "code",
   "execution_count": null,
   "id": "5bd7b8a8-1405-4a16-88a5-5f0d878f3b61",
   "metadata": {},
   "outputs": [],
   "source": []
  }
 ],
 "metadata": {
  "kernelspec": {
   "display_name": "Python 3 (ipykernel)",
   "language": "python",
   "name": "python3"
  },
  "language_info": {
   "codemirror_mode": {
    "name": "ipython",
    "version": 3
   },
   "file_extension": ".py",
   "mimetype": "text/x-python",
   "name": "python",
   "nbconvert_exporter": "python",
   "pygments_lexer": "ipython3",
   "version": "3.9.12"
  }
 },
 "nbformat": 4,
 "nbformat_minor": 5
}
