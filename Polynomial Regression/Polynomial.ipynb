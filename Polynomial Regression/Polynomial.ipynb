{
 "cells": [
  {
   "cell_type": "code",
   "execution_count": null,
   "id": "e53d54a5",
   "metadata": {},
   "outputs": [],
   "source": []
  },
  {
   "cell_type": "markdown",
   "id": "ff7b47db",
   "metadata": {},
   "source": [
    "## Import Dataset "
   ]
  },
  {
   "cell_type": "code",
   "execution_count": 1,
   "id": "75437ed3",
   "metadata": {},
   "outputs": [],
   "source": [
    "import pandas as pd\n",
    "import numpy as np\n",
    "import matplotlib.pyplot as plt"
   ]
  },
  {
   "cell_type": "markdown",
   "id": "d6fe5367",
   "metadata": {},
   "source": [
    "# Importing the Dataset"
   ]
  },
  {
   "cell_type": "code",
   "execution_count": 2,
   "id": "93c000ea",
   "metadata": {},
   "outputs": [],
   "source": [
    "data = pd.read_csv(\"Position_Salaries.csv\")"
   ]
  },
  {
   "cell_type": "code",
   "execution_count": 3,
   "id": "036b585e",
   "metadata": {},
   "outputs": [],
   "source": [
    "y = data.iloc[:, -1].values"
   ]
  },
  {
   "cell_type": "code",
   "execution_count": 4,
   "id": "6ed42ae9",
   "metadata": {},
   "outputs": [],
   "source": [
    "x1= data.iloc[:,1:-1].values"
   ]
  },
  {
   "cell_type": "code",
   "execution_count": null,
   "id": "0e6e7baf",
   "metadata": {},
   "outputs": [],
   "source": []
  },
  {
   "cell_type": "code",
   "execution_count": 5,
   "id": "acc065fa",
   "metadata": {},
   "outputs": [
    {
     "data": {
      "text/plain": [
       "array([[ 1],\n",
       "       [ 2],\n",
       "       [ 3],\n",
       "       [ 4],\n",
       "       [ 5],\n",
       "       [ 6],\n",
       "       [ 7],\n",
       "       [ 8],\n",
       "       [ 9],\n",
       "       [10]], dtype=int64)"
      ]
     },
     "execution_count": 5,
     "metadata": {},
     "output_type": "execute_result"
    }
   ],
   "source": [
    "x1"
   ]
  },
  {
   "cell_type": "markdown",
   "id": "a9095d85",
   "metadata": {},
   "source": [
    "# Train a Linear regression model on the whole Dataset"
   ]
  },
  {
   "cell_type": "code",
   "execution_count": 6,
   "id": "333d34f7",
   "metadata": {},
   "outputs": [
    {
     "data": {
      "text/plain": [
       "LinearRegression()"
      ]
     },
     "execution_count": 6,
     "metadata": {},
     "output_type": "execute_result"
    }
   ],
   "source": [
    "from sklearn.linear_model import LinearRegression\n",
    "lin_reg = LinearRegression()\n",
    "lin_reg.fit(x1, y)"
   ]
  },
  {
   "cell_type": "markdown",
   "id": "193ff052",
   "metadata": {},
   "source": [
    "# Train a Polynomial model on the whole Dataset"
   ]
  },
  {
   "cell_type": "code",
   "execution_count": 7,
   "id": "da63bc01",
   "metadata": {},
   "outputs": [
    {
     "data": {
      "text/plain": [
       "LinearRegression()"
      ]
     },
     "execution_count": 7,
     "metadata": {},
     "output_type": "execute_result"
    }
   ],
   "source": [
    "from sklearn.preprocessing import PolynomialFeatures\n",
    "poly_model = PolynomialFeatures(degree= 4)\n",
    "x_poly = poly_model.fit_transform(x1)\n",
    "linear_model_2 = LinearRegression()\n",
    "linear_model_2.fit(x_poly, y)"
   ]
  },
  {
   "cell_type": "code",
   "execution_count": null,
   "id": "a505b34f",
   "metadata": {},
   "outputs": [],
   "source": []
  },
  {
   "cell_type": "markdown",
   "id": "54ce2c71",
   "metadata": {},
   "source": [
    "#  Visualizing the Linear Regression Model"
   ]
  },
  {
   "cell_type": "code",
   "execution_count": null,
   "id": "6d05c476",
   "metadata": {},
   "outputs": [],
   "source": []
  },
  {
   "cell_type": "code",
   "execution_count": null,
   "id": "24cf853f",
   "metadata": {},
   "outputs": [],
   "source": []
  },
  {
   "cell_type": "code",
   "execution_count": 8,
   "id": "a7a3b303",
   "metadata": {},
   "outputs": [
    {
     "data": {
      "image/png": "[encoded data removed]",
      "text/plain": [
       "<Figure size 432x288 with 1 Axes>"
      ]
     },
     "metadata": {
      "needs_background": "light"
     },
     "output_type": "display_data"
    }
   ],
   "source": [
    "\n",
    "\"\"\"\n",
    "using the scatter to put the real salaries into 2d  plot\n",
    "takes in the x train, y train\n",
    "\n",
    "\"\"\"\n",
    "plt.scatter(x1, y, color='red')\n",
    "plt.plot(x1, lin_reg.predict(x1), color='blue')\n",
    "plt.title(' Salary Vs Position  (Whole Data  set)')\n",
    "plt.xlabel('Level in the Office')\n",
    "plt.ylabel('Salary')\n",
    "plt.show()\n",
    "\n",
    "\n"
   ]
  },
  {
   "cell_type": "code",
   "execution_count": null,
   "id": "6cfe2e07",
   "metadata": {},
   "outputs": [],
   "source": []
  },
  {
   "cell_type": "markdown",
   "id": "adf43ec6",
   "metadata": {},
   "source": [
    "# Visualizing the Polynomial Result when degree=2"
   ]
  },
  {
   "cell_type": "code",
   "execution_count": 9,
   "id": "598edcde",
   "metadata": {},
   "outputs": [
    {
     "data": {
      "image/png": "[encoded data removed]",
      "text/plain": [
       "<Figure size 432x288 with 1 Axes>"
      ]
     },
     "metadata": {
      "needs_background": "light"
     },
     "output_type": "display_data"
    }
   ],
   "source": [
    "\n",
    "\"\"\"\n",
    "using the scatter to put the real salaries into 2d  plot\n",
    "takes in the x train, y train\n",
    "\n",
    "\"\"\"\n",
    "plt.scatter(x1, y, color='red')\n",
    "plt.plot(x1, linear_model_2.predict(x_poly), color='blue')\n",
    "plt.title(' Salary Vs Position  (Whole Data  set)')\n",
    "plt.xlabel('Level in the Office')\n",
    "plt.ylabel('Salary')\n",
    "plt.show()"
   ]
  },
  {
   "cell_type": "markdown",
   "id": "c9b5a8ba",
   "metadata": {},
   "source": [
    "#  Visualizing the Polynomial Result when degree=4"
   ]
  },
  {
   "cell_type": "code",
   "execution_count": 10,
   "id": "c62680ff",
   "metadata": {},
   "outputs": [
    {
     "data": {
      "image/png": "[encoded data removed]",
      "text/plain": [
       "<Figure size 432x288 with 1 Axes>"
      ]
     },
     "metadata": {
      "needs_background": "light"
     },
     "output_type": "display_data"
    }
   ],
   "source": [
    "\n",
    "\"\"\"\n",
    "using the scatter to put the real salaries into 2d  plot\n",
    "takes in the x train, y train\n",
    "\n",
    "\"\"\"\n",
    "plt.scatter(x1, y, color='red')\n",
    "plt.plot(x1, linear_model_2.predict(x_poly), color='blue')\n",
    "plt.title(' Salary Vs Position  (Whole Data  set)')\n",
    "plt.xlabel('Level in the Office')\n",
    "plt.ylabel('Salary')\n",
    "plt.show()"
   ]
  },
  {
   "cell_type": "code",
   "execution_count": null,
   "id": "8a4a89d4",
   "metadata": {},
   "outputs": [],
   "source": []
  },
  {
   "cell_type": "markdown",
   "id": "e77dfbde",
   "metadata": {},
   "source": [
    "### Visualizing the polynomial results (for a higher resolution and smoother curve)"
   ]
  },
  {
   "cell_type": "code",
   "execution_count": 11,
   "id": "5c2594a0",
   "metadata": {},
   "outputs": [
    {
     "data": {
      "image/png": "[encoded data removed]",
      "text/plain": [
       "<Figure size 432x288 with 1 Axes>"
      ]
     },
     "metadata": {
      "needs_background": "light"
     },
     "output_type": "display_data"
    }
   ],
   "source": [
    "\n",
    "\"\"\"\n",
    "using the scatter to put the real salaries into 2d  plot\n",
    "takes in the x train, y train\n",
    "\n",
    "\"\"\"\n",
    "x_grid = np.arange(min(x1), max(x1), 0.1)\n",
    "x_grid = x_grid.reshape(len(x_grid), 1)\n",
    "\n",
    "plt.scatter(x1, y, color='red')\n",
    "plt.plot(x_grid, linear_model_2.predict(poly_model.fit_transform(x_grid)), color='blue')\n",
    "plt.title(' Salary Vs Position  (Whole Data  set)')\n",
    "plt.xlabel('Level in the Office')\n",
    "plt.ylabel('Salary')\n",
    "plt.show()"
   ]
  },
  {
   "cell_type": "code",
   "execution_count": null,
   "id": "5f7b9fcd",
   "metadata": {},
   "outputs": [],
   "source": []
  },
  {
   "cell_type": "markdown",
   "id": "d7327b42",
   "metadata": {},
   "source": [
    "## Predicting a new result with Linear Regression"
   ]
  },
  {
   "cell_type": "code",
   "execution_count": 85,
   "id": "87fd8428",
   "metadata": {},
   "outputs": [
    {
     "data": {
      "text/plain": [
       "array([330378.78787879])"
      ]
     },
     "execution_count": 85,
     "metadata": {},
     "output_type": "execute_result"
    }
   ],
   "source": [
    "lin_reg.predict([[6.5]]) # double square bracket needed"
   ]
  },
  {
   "cell_type": "code",
   "execution_count": null,
   "id": "3a8d7656",
   "metadata": {},
   "outputs": [],
   "source": []
  },
  {
   "cell_type": "markdown",
   "id": "de8e7cbf",
   "metadata": {},
   "source": [
    "### Predicting a new result with Polynomial Regression"
   ]
  },
  {
   "cell_type": "code",
   "execution_count": 88,
   "id": "1ba7813b",
   "metadata": {},
   "outputs": [
    {
     "data": {
      "text/plain": [
       "array([158862.45265153])"
      ]
     },
     "execution_count": 88,
     "metadata": {},
     "output_type": "execute_result"
    }
   ],
   "source": [
    "linear_model_2.predict(poly_model.fit_transform([[6.5]]))"
   ]
  },
  {
   "cell_type": "code",
   "execution_count": null,
   "id": "57d27a88",
   "metadata": {},
   "outputs": [],
   "source": []
  }
 ],
 "metadata": {
  "kernelspec": {
   "display_name": "Python 3 (ipykernel)",
   "language": "python",
   "name": "python3"
  },
  "language_info": {
   "codemirror_mode": {
    "name": "ipython",
    "version": 3
   },
   "file_extension": ".py",
   "mimetype": "text/x-python",
   "name": "python",
   "nbconvert_exporter": "python",
   "pygments_lexer": "ipython3",
   "version": "3.9.12"
  }
 },
 "nbformat": 4,
 "nbformat_minor": 5
}
